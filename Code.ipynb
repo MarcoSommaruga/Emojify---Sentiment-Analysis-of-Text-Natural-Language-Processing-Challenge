{
 "cells": [
  {
   "cell_type": "markdown",
   "metadata": {
    "colab_type": "text",
    "id": "1l4I86QKHxSE"
   },
   "source": [
    "#imports"
   ]
  },
  {
   "cell_type": "code",
   "execution_count": null,
   "metadata": {
    "colab": {
     "base_uri": "https://localhost:8080/",
     "height": 214
    },
    "colab_type": "code",
    "id": "kpIKcWhSFien",
    "outputId": "a7e6e5ee-bb11-44c6-f778-8e6814e63b92"
   },
   "outputs": [
    {
     "name": "stdout",
     "output_type": "stream",
     "text": [
      "Collecting emoji\n",
      "\u001b[?25l  Downloading https://files.pythonhosted.org/packages/40/8d/521be7f0091fe0f2ae690cc044faf43e3445e0ff33c574eae752dd7e39fa/emoji-0.5.4.tar.gz (43kB)\n",
      "\r",
      "\u001b[K     |███████▌                        | 10kB 15.8MB/s eta 0:00:01\r",
      "\u001b[K     |███████████████                 | 20kB 2.1MB/s eta 0:00:01\r",
      "\u001b[K     |██████████████████████▋         | 30kB 2.8MB/s eta 0:00:01\r",
      "\u001b[K     |██████████████████████████████▏ | 40kB 3.2MB/s eta 0:00:01\r",
      "\u001b[K     |████████████████████████████████| 51kB 1.9MB/s \n",
      "\u001b[?25hBuilding wheels for collected packages: emoji\n",
      "  Building wheel for emoji (setup.py) ... \u001b[?25l\u001b[?25hdone\n",
      "  Created wheel for emoji: filename=emoji-0.5.4-cp36-none-any.whl size=42176 sha256=8160bdc79daab6a43271e21dad14059800c701899dd39e22f4227634a8d37e59\n",
      "  Stored in directory: /root/.cache/pip/wheels/2a/a9/0a/4f8e8cce8074232aba240caca3fade315bb49fac68808d1a9c\n",
      "Successfully built emoji\n",
      "Installing collected packages: emoji\n",
      "Successfully installed emoji-0.5.4\n"
     ]
    }
   ],
   "source": [
    "!pip install emoji"
   ]
  },
  {
   "cell_type": "code",
   "execution_count": null,
   "metadata": {
    "colab": {
     "base_uri": "https://localhost:8080/",
     "height": 90
    },
    "colab_type": "code",
    "id": "5PbJCUQtFuF4",
    "outputId": "c292edad-7385-4823-827a-55a5f69de49e"
   },
   "outputs": [
    {
     "name": "stderr",
     "output_type": "stream",
     "text": [
      "/usr/local/lib/python3.6/dist-packages/statsmodels/tools/_testing.py:19: FutureWarning: pandas.util.testing is deprecated. Use the functions in the public API at pandas.testing instead.\n",
      "  import pandas.util.testing as tm\n",
      "Using TensorFlow backend.\n"
     ]
    }
   ],
   "source": [
    "from google.colab import drive\n",
    "import numpy as np\n",
    "import pandas as pd\n",
    "import tensorflow as tf\n",
    "\n",
    "import cv2\n",
    "import os\n",
    "import matplotlib.pyplot as plt\n",
    "import seaborn as sns\n",
    "import emoji\n",
    "\n",
    "from sklearn.metrics.pairwise import cosine_similarity\n",
    "\n",
    "from sklearn.base import BaseEstimator, TransformerMixin\n",
    "from sklearn.preprocessing import StandardScaler\n",
    "from sklearn.pipeline import Pipeline\n",
    "from sklearn.feature_extraction.text import TfidfVectorizer\n",
    "\n",
    "from sklearn.metrics import confusion_matrix\n",
    "from sklearn.metrics import accuracy_score, classification_report\n",
    "\n",
    "from sklearn.model_selection import GridSearchCV\n",
    "from sklearn.model_selection import KFold\n",
    "from sklearn.model_selection import StratifiedKFold\n",
    "from sklearn.model_selection import learning_curve\n",
    "\n",
    "from sklearn import svm\n",
    "from sklearn.linear_model import LogisticRegression\n",
    "from keras.models import Sequential\n",
    "from keras import layers\n",
    "from keras import regularizers"
   ]
  },
  {
   "cell_type": "code",
   "execution_count": null,
   "metadata": {
    "colab": {
     "base_uri": "https://localhost:8080/",
     "height": 126
    },
    "colab_type": "code",
    "id": "MlRwza_CFwcV",
    "outputId": "3de1b1a5-2838-4330-e89e-48980f43f4e1"
   },
   "outputs": [
    {
     "name": "stdout",
     "output_type": "stream",
     "text": [
      "Go to this URL in a browser: https://accounts.google.com/o/oauth2/auth?client_id=947318989803-6bn6qk8qdgf4n4g3pfee6491hc0brc4i.apps.googleusercontent.com&redirect_uri=urn%3aietf%3awg%3aoauth%3a2.0%3aoob&response_type=code&scope=email%20https%3a%2f%2fwww.googleapis.com%2fauth%2fdocs.test%20https%3a%2f%2fwww.googleapis.com%2fauth%2fdrive%20https%3a%2f%2fwww.googleapis.com%2fauth%2fdrive.photos.readonly%20https%3a%2f%2fwww.googleapis.com%2fauth%2fpeopleapi.readonly\n",
      "\n",
      "Enter your authorization code:\n",
      "··········\n",
      "Mounted at /content/drive/\n"
     ]
    }
   ],
   "source": [
    "drive.mount(\"/content/drive/\", force_remount = True)"
   ]
  },
  {
   "cell_type": "code",
   "execution_count": null,
   "metadata": {
    "colab": {},
    "colab_type": "code",
    "id": "9KqBfxQPGUHw"
   },
   "outputs": [],
   "source": [
    "##################################################\n",
    "# Utils\n",
    "##################################################\n",
    "\n",
    "def label_to_emoji(label):\n",
    "    \"\"\"\n",
    "    Converts a label (int or string) into the corresponding emoji code (string) ready to be printed\n",
    "    \"\"\"\n",
    "    return emoji.emojize(emoji_dictionary[str(label)], use_aliases=True)"
   ]
  },
  {
   "cell_type": "code",
   "execution_count": null,
   "metadata": {
    "colab": {},
    "colab_type": "code",
    "id": "1eI97lMVFxur"
   },
   "outputs": [],
   "source": [
    "# PATHS FLA\n",
    "\n",
    "PATH_TRAIN = \"/content/drive/My Drive/Unipd/ML Project/data/train.npy\"\n",
    "PATH_TEST = \"/content/drive/My Drive/Unipd/ML Project/data/validation.npy\"\n",
    "\n",
    "PATH_TRAIN_CSV = \"/content/drive/My Drive/Unipd/ML Project/data/train.csv\"\n",
    "PATH_VALID_CSV = \"/content/drive/My Drive/Unipd/ML Project/data/validation.csv\"\n",
    "\n",
    "PATH_TEST1 = \"/content/drive/My Drive/Unipd/ML Project/data/test.npy\"\n",
    "\n",
    "PATH_SUBMISSION = \"/content/drive/My Drive/Unipd/ML Project/data/sample_submission_ok.csv\"\n",
    "PATH_TEST_CSV = \"/content/drive/My Drive/Unipd/ML Project/data/sample_submission.csv\""
   ]
  },
  {
   "cell_type": "code",
   "execution_count": null,
   "metadata": {
    "colab": {},
    "colab_type": "code",
    "id": "rjPjjMZnm2M9"
   },
   "outputs": [],
   "source": [
    "# PATHS MARCO\n",
    "\n",
    "PATH_TRAIN = \"/content/drive/My Drive/data/train.npy\"\n",
    "PATH_TEST = \"/content/drive/My Drive/data/validation.npy\"\n",
    "\n",
    "PATH_TRAIN_CSV = \"/content/drive/My Drive/data/train.csv\"\n",
    "PATH_VALID_CSV = \"/content/drive/My Drive/data/validation.csv\"\n",
    "\n",
    "PATH_TEST1 = \"/content/drive/My Drive/data/test.npy\"\n",
    "PATH_TEST_CSV = \"/content/drive/My Drive/data/sample_submission.csv\""
   ]
  },
  {
   "cell_type": "markdown",
   "metadata": {
    "colab_type": "text",
    "id": "S3tGv2TvH7PB"
   },
   "source": [
    "# Load training & validation data"
   ]
  },
  {
   "cell_type": "code",
   "execution_count": null,
   "metadata": {
    "colab": {
     "base_uri": "https://localhost:8080/",
     "height": 229
    },
    "colab_type": "code",
    "id": "AsXz6rZnGOTT",
    "outputId": "94689dca-52c5-404f-b4ad-6b84c70622e7"
   },
   "outputs": [
    {
     "name": "stdout",
     "output_type": "stream",
     "text": [
      "EXAMPLES:\n",
      "####################\n",
      "I want to go play -> ⚾\n",
      "I want to have sushi for dinner -> 🍴\n",
      "I am always working -> 😞\n",
      "she is happy -> 😄\n",
      "What is wrong with you -> 😞\n",
      "I am proud of your achievements -> 😄\n",
      "funny -> 😄\n",
      "do you like pizza  -> 🍴\n",
      "no one likes him -> 😞\n",
      "he is the best player -> ⚾\n"
     ]
    }
   ],
   "source": [
    "##################################################\n",
    "# Load dataset\n",
    "##################################################\n",
    "\n",
    "df_train = pd.read_csv(PATH_TRAIN_CSV)\n",
    "y_train = df_train['class']\n",
    "df_validation = pd.read_csv(PATH_VALID_CSV)\n",
    "y_validation = df_validation['class']\n",
    "emoji_dictionary = {\n",
    "    '0': '\\u2764\\uFE0F',\n",
    "    '1': ':baseball:',\n",
    "    '2': ':smile:',\n",
    "    '3': ':disappointed:',\n",
    "    '4': ':fork_and_knife:'\n",
    "}\n",
    "\n",
    "# See some data examples\n",
    "print('EXAMPLES:\\n####################')\n",
    "for idx in range(10):\n",
    "    print(f'{df_train[\"phrase\"][idx]} -> {label_to_emoji(y_train[idx])}')"
   ]
  },
  {
   "cell_type": "code",
   "execution_count": null,
   "metadata": {
    "colab": {
     "base_uri": "https://localhost:8080/",
     "height": 35
    },
    "colab_type": "code",
    "id": "2p1TUfvNGPx4",
    "outputId": "d7493c82-7105-4d3c-9565-15c6b74f235d"
   },
   "outputs": [
    {
     "name": "stdout",
     "output_type": "stream",
     "text": [
      "Word embedding size: 250\n"
     ]
    }
   ],
   "source": [
    "# Load phrase representation\n",
    "x_train = np.load(PATH_TRAIN).reshape(len(df_train), -1)\n",
    "x_validation = np.load(PATH_TEST).reshape(len(df_validation), -1)\n",
    "print(f'Word embedding size: {x_train.shape[-1]}')"
   ]
  },
  {
   "cell_type": "code",
   "execution_count": null,
   "metadata": {
    "colab": {},
    "colab_type": "code",
    "id": "yspymUDzGWs0"
   },
   "outputs": [],
   "source": [
    "# create complete dataset for k-fold cv\n",
    "x_complete = np.vstack((x_train, x_validation))\n",
    "y_complete = np.hstack((y_train.values, y_validation))"
   ]
  },
  {
   "cell_type": "markdown",
   "metadata": {
    "colab_type": "text",
    "id": "ucQCjbbPLGz8"
   },
   "source": [
    "## Classes distribution on TS & VS"
   ]
  },
  {
   "cell_type": "code",
   "execution_count": null,
   "metadata": {
    "colab": {
     "base_uri": "https://localhost:8080/",
     "height": 265
    },
    "colab_type": "code",
    "id": "ZnLibx8xLImI",
    "outputId": "9d2922c6-3b45-4d7a-ad86-6bb6bee76431"
   },
   "outputs": [
    {
     "data": {
      "image/png": "[encoded data removed]",
      "text/plain": [
       "<Figure size 432x288 with 1 Axes>"
      ]
     },
     "metadata": {
      "needs_background": "light",
      "tags": []
     },
     "output_type": "display_data"
    }
   ],
   "source": [
    "_ = pd.concat((df_train, df_validation),\n",
    "              ignore_index = True)[\"class\"].value_counts().plot.bar()\n",
    "_ = plt.xticks(ticks = [0, 1, 2, 3, 4],\n",
    "               labels = [\"funny\", \"disappointed\", \"love\", \"sport\", \"food\"],\n",
    "               rotation = 0)\n",
    "_ = plt.savefig(\"./EDA.png\", dpi = 200)"
   ]
  },
  {
   "cell_type": "markdown",
   "metadata": {
    "colab_type": "text",
    "id": "mlsaG9cyGcNn"
   },
   "source": [
    "## Remove stopwords"
   ]
  },
  {
   "cell_type": "code",
   "execution_count": null,
   "metadata": {
    "colab": {},
    "colab_type": "code",
    "id": "PoAHssWAGfHz"
   },
   "outputs": [],
   "source": [
    "# find what are the stopword in our corpus, according to the standard\n",
    "# stopword list by scikit-learn\n",
    "# exploit the vocabulary from tfidf vectorizer,\n",
    "# one constructed considering stopwords and the other without them\n",
    "vectorizer = TfidfVectorizer()\n",
    "vectorizer_nostop = TfidfVectorizer(stop_words = 'english')\n",
    "\n",
    "corpus = pd.concat((df_train, df_validation), ignore_index = True) \n",
    "\n",
    "vectorizer.fit(corpus[\"phrase\"])\n",
    "vectorizer_nostop.fit(corpus[\"phrase\"])\n",
    "\n",
    "words_nostop = set(vectorizer_nostop.vocabulary_.keys())\n",
    "words_stop = set(vectorizer.vocabulary_.keys())\n",
    "stopwords = words_stop - words_nostop\n",
    "stopwords.add('i')\n",
    "stopwords.add('it')\n",
    "stopwords.add('the')\n",
    "stopwords.add('a')\n",
    "stopwords.add('did')\n",
    "stopwords.add('lot')\n",
    "stopwords.add('got')"
   ]
  },
  {
   "cell_type": "code",
   "execution_count": null,
   "metadata": {
    "colab": {
     "base_uri": "https://localhost:8080/",
     "height": 90
    },
    "colab_type": "code",
    "id": "bLXdYrCgGpl7",
    "outputId": "ae47bbcd-9fc1-4471-e454-453c0a13fd18"
   },
   "outputs": [
    {
     "name": "stdout",
     "output_type": "stream",
     "text": [
      "80\n",
      "55\n",
      "{'her', 'too', 'got', 'am', 'see', 'this', 'after', 'have', 'one', 'my', 'so', 'of', 'get', 'where', 'by', 'she', 'the', 'go', 'me', 'do', 'us', 'were', 'to', 'and', 'that', 'has', 'an', 'with', 'your', 'a', 'it', 'him', 'was', 'they', 'on', 'how', 'though', 'did', 'two', 'had', 'here', 'lot', 'you', 'in', 'i', 'is', 'at', 'for', 'could', 'first', 'he', 'are', 'who', 'what', 'when'}\n"
     ]
    }
   ],
   "source": [
    "# stopwords should now be the set of stopwords in our phrases\n",
    "# we will probably want to take a look at it to keep words such as\n",
    "# \"like\" or \"really\" or \"not\" which may be stopwords but we may want to keep\n",
    "# since we are insterested in the polarity of a statement and not only about\n",
    "# its topic.\n",
    "\n",
    "print(len(stopwords))\n",
    "# if necessary, remove some word\n",
    "stopwords = stopwords - {'again', 'such', 'no', 'never', 'cannot', 'alone', 'will', 'together', 'well',\n",
    "              'down', 'ever', 'very', 'give', 'can', 'many', 'much', 'but',\n",
    "              'not', 'always', 'few', 'up', 'anything', 'some', \"made\", \"we\"}\n",
    "print(len(stopwords))\n",
    "print(stopwords)"
   ]
  },
  {
   "cell_type": "code",
   "execution_count": null,
   "metadata": {
    "colab": {},
    "colab_type": "code",
    "id": "JaKeJUvcGq9k"
   },
   "outputs": [],
   "source": [
    "# we now want to assign a 0 vector to the word embeddings corresponding to the stopwords\n",
    "\n",
    "x_train_words = np.load(PATH_TRAIN)\n",
    "x_validation_words = np.load(PATH_TEST)\n",
    "\n",
    "corpus_vectors = np.vstack((x_train_words, x_validation_words))\n",
    "\n",
    "# for each document in the corpus\n",
    "for doc_indx in range(len(corpus)):\n",
    "  # for each word in the document\n",
    "  for word_indx, word in enumerate(corpus[\"phrase\"][doc_indx].split()):\n",
    "    # if the word is in the vocabulary\n",
    "    if word.lower() in stopwords:\n",
    "      # assign zero to its correspondent vector\n",
    "      corpus_vectors[doc_indx][word_indx] = 0"
   ]
  },
  {
   "cell_type": "code",
   "execution_count": null,
   "metadata": {
    "colab": {},
    "colab_type": "code",
    "id": "4SkIZH3rGsYl"
   },
   "outputs": [],
   "source": [
    "# now, we want to remove the zero vectors we left inside the phrases\n",
    "\n",
    "for doc_indx in range(len(corpus)):\n",
    "  # create a version of the document with only non-negative coordinates,\n",
    "  # preserving the order\n",
    "  mask = np.array([x.any() for x in corpus_vectors[doc_indx]])\n",
    "  num_elem = mask.sum()\n",
    "  new_doc = np.zeros((10, 25))\n",
    "  new_doc[:num_elem] = corpus_vectors[doc_indx][mask]\n",
    "  corpus_vectors[doc_indx] = new_doc"
   ]
  },
  {
   "cell_type": "code",
   "execution_count": null,
   "metadata": {
    "colab": {
     "base_uri": "https://localhost:8080/",
     "height": 35
    },
    "colab_type": "code",
    "id": "lgkr9JjOGujo",
    "outputId": "89fb546e-6598-4332-a620-fb534c747d6b"
   },
   "outputs": [
    {
     "data": {
      "text/plain": [
       "(132, 250)"
      ]
     },
     "execution_count": 14,
     "metadata": {
      "tags": []
     },
     "output_type": "execute_result"
    }
   ],
   "source": [
    "# create complete version of the dataset without stopwords\n",
    "x_complete_nostop = corpus_vectors.reshape(132, -1)\n",
    "x_complete_nostop.shape"
   ]
  },
  {
   "cell_type": "markdown",
   "metadata": {
    "colab_type": "text",
    "id": "qsOcmBG9Gxx2"
   },
   "source": [
    "# Standardizer"
   ]
  },
  {
   "cell_type": "code",
   "execution_count": null,
   "metadata": {
    "colab": {},
    "colab_type": "code",
    "id": "aHIh89J-Gy6C"
   },
   "outputs": [],
   "source": [
    "class StdTransformer(BaseEstimator, TransformerMixin):\n",
    "  \n",
    "  def __init__(self):\n",
    "    self._mean = None\n",
    "    self._std = None\n",
    "    self._scaler = StandardScaler()\n",
    "\n",
    "  def fit(self, X, y = None):\n",
    "    \n",
    "    rows_phrases = X.shape[0]\n",
    "\n",
    "    x_3d = X.reshape((rows_phrases, 10, 25))\n",
    "\n",
    "    all_phrases = np.zeros((1, 25))\n",
    "\n",
    "    for doc_indx, document in enumerate(x_3d):\n",
    "      for word_indx, word in enumerate(document):\n",
    "        if np.linalg.norm(word) != 0:\n",
    "          all_phrases = np.vstack((all_phrases, word))\n",
    "    \n",
    "    # remove first row of zeros\n",
    "    all_phrases = all_phrases[1:]\n",
    "    # fit the scaler on all_phrases\n",
    "    self._scaler.fit(all_phrases)\n",
    "    # compute the mean and the std on all_phrases\n",
    "    self._mean = self._scaler.mean_\n",
    "    self._std = self._scaler.scale_\n",
    "\n",
    "    return self\n",
    "    \n",
    "  def transform(self, X, y = None):\n",
    "    \n",
    "    # create a copy of X?\n",
    "    X_trans = X.copy()\n",
    "    \n",
    "    rows_phrases = X.shape[0]\n",
    "\n",
    "    x_3d = X_trans.reshape((rows_phrases, 10, 25))\n",
    "\n",
    "    for doc_indx, document in enumerate(x_3d):\n",
    "      for word_indx, word in enumerate(document):\n",
    "        if np.linalg.norm(word) != 0:\n",
    "          x_3d[doc_indx][word_indx] = (x_3d[doc_indx][word_indx] - self._mean)/self._std\n",
    "    \n",
    "    X_trans = x_3d.reshape(rows_phrases, 250)\n",
    "\n",
    "    return X_trans"
   ]
  },
  {
   "cell_type": "markdown",
   "metadata": {
    "colab_type": "text",
    "id": "rUvSkncwG8Hg"
   },
   "source": [
    "# Load test data"
   ]
  },
  {
   "cell_type": "code",
   "execution_count": null,
   "metadata": {
    "colab": {},
    "colab_type": "code",
    "id": "7qZ1fbX4GzVN"
   },
   "outputs": [],
   "source": [
    "df_test = pd.read_csv(PATH_TEST_CSV)\n",
    "df_test[\"phrase\"] = df_test[\"phrase\"].map(lambda x: x.replace(\"\\n\", \"\"))\n",
    "x_test = np.load(PATH_TEST1)"
   ]
  },
  {
   "cell_type": "markdown",
   "metadata": {
    "colab_type": "text",
    "id": "zLdam_vtHEJR"
   },
   "source": [
    "## Remove stopwords"
   ]
  },
  {
   "cell_type": "code",
   "execution_count": null,
   "metadata": {
    "colab": {},
    "colab_type": "code",
    "id": "NNEqa9fWG-Mc"
   },
   "outputs": [],
   "source": [
    "# remove stopwords from test dataset\n",
    "x_test_nostop = np.copy(x_test)\n",
    "\n",
    "# for each document in the corpus\n",
    "for doc_indx in range(len(df_test)):\n",
    "  # for each word in the document\n",
    "  for word_indx, word in enumerate(df_test[\"phrase\"][doc_indx].split()):\n",
    "    # if the word is in the vocabulary\n",
    "    if word.lower() in stopwords:\n",
    "      # assign zero to its correspondent vector\n",
    "      x_test_nostop[doc_indx][word_indx] = 0"
   ]
  },
  {
   "cell_type": "code",
   "execution_count": null,
   "metadata": {
    "colab": {},
    "colab_type": "code",
    "id": "fA-NjMqFHHbS"
   },
   "outputs": [],
   "source": [
    "# now, we want to remove the zero vectors we left inside the phrases\n",
    "\n",
    "for doc_indx in range(len(df_test)):\n",
    "  # create a version of the document with only non-negative coordinates,\n",
    "  # preserving the order\n",
    "  mask = np.array([x.any() for x in x_test_nostop[doc_indx]])\n",
    "  num_elem = mask.sum()\n",
    "  new_doc = np.zeros((10, 25))\n",
    "  new_doc[:num_elem] = x_test_nostop[doc_indx][mask]\n",
    "  x_test_nostop[doc_indx] = new_doc"
   ]
  },
  {
   "cell_type": "markdown",
   "metadata": {
    "colab_type": "text",
    "id": "LjycioUpHnmw"
   },
   "source": [
    "# Utils"
   ]
  },
  {
   "cell_type": "markdown",
   "metadata": {
    "colab_type": "text",
    "id": "jBb8aQ4EIM8j"
   },
   "source": [
    "## Plot grid search learning curve"
   ]
  },
  {
   "cell_type": "code",
   "execution_count": null,
   "metadata": {
    "colab": {},
    "colab_type": "code",
    "id": "7ihCZIVgHSpj"
   },
   "outputs": [],
   "source": [
    "def grid_search_lc(model, varying_param, fixed_params, x, y, n_folds, hline,\n",
    "                   scoring_metric = 'accuracy', show_variance = False):\n",
    "  \"\"\"This function is a variation to the classic grid search which allows to\n",
    "  compare different parameters using learning curves plotted for each parameter.\n",
    "\n",
    "  model : class\n",
    "    This should be a model class.\n",
    "  \n",
    "  fixed_params : dict\n",
    "    A dictionary containing all unvaried but chosen parameters for the model.\n",
    "\n",
    "  varying_params : list\n",
    "    This should be a list of dictionaries, each containing a parameter value\n",
    "    one wants the model to run with and compare to other values\n",
    "    by looking at the learning curves.\n",
    "\n",
    "  scoring_metric : str\n",
    "    Should take a value among: 'accuracy', 'neg_mean_absolute_error',\n",
    "    'neg_mean_squared_error', and other error metrics in \n",
    "    sklearn.metrics.SCORERS.keys().\n",
    "\n",
    "  hline : list\n",
    "    A list of booleans indicating whether to plot an horizontal line to indicate\n",
    "    the estimated value of convegence of the scoring metric on training and\n",
    "    test set.\n",
    "\n",
    "  show_variance : bool\n",
    "    Indicates whether to show the variance of the scoring metric computed\n",
    "    over the folds. \n",
    "  \"\"\"\n",
    "  \n",
    "  cmap = plt.get_cmap(\"tab10\")\n",
    "  legend = []\n",
    "\n",
    "  _ = plt.subplots(1, figsize = (8, 6))\n",
    "\n",
    "  for i, param_setting in enumerate(varying_param):\n",
    "    setting = fixed_params\n",
    "    \n",
    "    varying_param = list(param_setting)[0]\n",
    "    varying_param_value = param_setting[varying_param]\n",
    "    \n",
    "    # adding the varying parameter to the model configuration\n",
    "    setting[varying_param] = varying_param_value\n",
    "\n",
    "    # updating plot legend\n",
    "    legend.append(varying_param_value)\n",
    "    legend.append(varying_param_value)\n",
    "\n",
    "    model_instance = model(**setting)\n",
    "\n",
    "    pipe_list = [('std_trans', StdTransformer()), ('clf', model_instance)]\n",
    "    pipe = Pipeline(pipe_list)\n",
    "\n",
    "    upper_range = len(x) - len(x)//n_folds\n",
    "\n",
    "    stratCV = StratifiedKFold(n_splits = n_folds, shuffle = True)\n",
    "\n",
    "    train_sizes, train_scores, valid_scores = \\\n",
    "    learning_curve(pipe, x, y, train_sizes=range(6, upper_range, 2), \n",
    "                   scoring = scoring_metric,\n",
    "                   cv = stratCV)\n",
    "    \n",
    "    # computing means over folds\n",
    "    valid_mean =  valid_scores.mean(axis = 1)\n",
    "    valid_std =  valid_scores.std(axis = 1)\n",
    "    train_mean =  train_scores.mean(axis = 1)\n",
    "    train_std =  train_scores.std(axis = 1)\n",
    "\n",
    "    _ = plt.plot(train_sizes, valid_mean, linestyle = \"dashed\", color = cmap(i))\n",
    "    _ = plt.plot(train_sizes, train_mean, color = cmap(i))\n",
    "    \n",
    "    if hline[i]:\n",
    "      _ = plt.hlines((train_mean[-1] + valid_mean[-1])/2, 0, 120,\n",
    "                     color = cmap(i), linestyles=\"dashed\", linewidth = 1)\n",
    "\n",
    "    if show_variance:\n",
    "      _ = plt.fill_between(train_sizes, \n",
    "                          valid_mean + valid_std, \n",
    "                          valid_mean - valid_std,\n",
    "                          color = cmap(i), alpha = 0.1)\n",
    "\n",
    "      _ = plt.fill_between(train_sizes, \n",
    "                          train_mean + train_std, \n",
    "                          train_mean - train_std,\n",
    "                          color = cmap(i), alpha = 0.1)\n",
    "    \n",
    "    #lgd = plt.legend(legend, bbox_to_anchor = (1, 0.5))\n",
    "    _ = plt.legend(legend)\n",
    "    _ = plt.ylabel(scoring_metric)\n",
    "    _ = plt.xlabel(\"# Training samples\")"
   ]
  },
  {
   "cell_type": "markdown",
   "metadata": {
    "colab_type": "text",
    "id": "rWdouuulIYBP"
   },
   "source": [
    "## Plot CV history"
   ]
  },
  {
   "cell_type": "code",
   "execution_count": null,
   "metadata": {
    "colab": {},
    "colab_type": "code",
    "id": "HNqHqsWLIZvU"
   },
   "outputs": [],
   "source": [
    "def plot_cv_history(train_acc, val_acc, train_loss, val_loss, run, param_label, loss = True):\n",
    "  \"\"\"Plots learning curves using loss or accuracy values averaged after\n",
    "k-fold CV.\n",
    "  \"\"\"\n",
    "  cmap = plt.get_cmap(\"tab10\")\n",
    "  x = range(1, len(train_acc) + 1)\n",
    "\n",
    "  if loss:\n",
    "    plt.plot(x, train_loss, color = cmap(run), label = param_label)\n",
    "    plt.plot(x, val_loss, color = cmap(run), label = param_label, linestyle=\"dashed\")\n",
    "    plt.title('Training and validation loss')\n",
    "    plt.legend()\n",
    "\n",
    "  else: \n",
    "    plt.plot(x, train_acc, color = cmap(run), label = param_label)\n",
    "    plt.plot(x, val_acc, color = cmap(run), label = param_label, linestyle=\"dashed\")\n",
    "    plt.title('Training and validation accuracy')\n",
    "    plt.legend()"
   ]
  },
  {
   "cell_type": "markdown",
   "metadata": {
    "colab_type": "text",
    "id": "vldvFXLtB0cb"
   },
   "source": [
    "## Plot CV heatmap"
   ]
  },
  {
   "cell_type": "code",
   "execution_count": null,
   "metadata": {
    "colab": {},
    "colab_type": "code",
    "id": "8Opdxax4B1HH"
   },
   "outputs": [],
   "source": [
    "def CV_heatmap(model, n_folds, data = x_complete_nostop):\n",
    "  \"\"\"Performs k-fold cross validation. Optionally, plots averaged confusion\n",
    "  matrix using plot_cm = {'True', 'False'} \n",
    "  \"\"\"\n",
    "  k_fold = StratifiedKFold(n_splits = n_folds, shuffle = True, random_state=32)\n",
    "\n",
    "  avg_accuracy = 0\n",
    "\n",
    "  transformer = StdTransformer()\n",
    "\n",
    "  conf_matrix = np.zeros((5, 5))\n",
    "\n",
    "  for train_index, test_index in k_fold.split(data, y_complete):\n",
    "    x_train, x_validation = data[train_index], data[test_index]\n",
    "    y_train, y_validation = y_complete[train_index], y_complete[test_index]\n",
    "\n",
    "    # transform train and validation data to standardized form\n",
    "    transformer.fit(x_train)\n",
    "    x_train = transformer.transform(x_train)\n",
    "    x_validation = transformer.transform(x_validation)\n",
    "\n",
    "    model.fit(x_train, y_train)\n",
    "    \n",
    "    model_predictions = model.predict(x_validation)\n",
    "\n",
    "    accuracy = accuracy_score(model_predictions, y_validation)*100\n",
    "\n",
    "    conf_matrix += confusion_matrix(y_validation, model_predictions, \n",
    "                                      labels = [0, 1, 2, 3, 4])\n",
    "\n",
    "    print(\"Accuracy Score ->\", accuracy)\n",
    "    avg_accuracy += accuracy\n",
    "    \n",
    "  \n",
    "  print(f\"Average accuracy over {n_folds} folds: {avg_accuracy/n_folds}\")\n",
    "\n",
    "  \n",
    "  #conf_matrix /= n_folds\n",
    "\n",
    "  labels = [\"love\", \"sport\", \"funny\", \"disappointed\", \"food\"]\n",
    "  _ = sns.heatmap(conf_matrix,\n",
    "                  annot = True, square = 1, cmap = sns.light_palette(\"green\"),\n",
    "                  xticklabels = labels, yticklabels = labels)\n",
    "  _ = plt.xlabel(\"Predicted label\")\n",
    "  _ = plt.ylabel(\"True label\")\n",
    "  _ = plt.savefig(\"./\" + str(type(model)) + \"_heatmap.png\", dpi = 200, bbox_inches = 'tight') "
   ]
  },
  {
   "cell_type": "markdown",
   "metadata": {
    "colab_type": "text",
    "id": "Y78AjBQz1Rxj"
   },
   "source": [
    "## Create FFNN model"
   ]
  },
  {
   "cell_type": "code",
   "execution_count": null,
   "metadata": {
    "colab": {},
    "colab_type": "code",
    "id": "wwMhWTFryXGW"
   },
   "outputs": [],
   "source": [
    "def create_ff_model(size_hidden, size_hidden_2, reg_weight, learning_rate = 1e-4):\n",
    "    model = Sequential()\n",
    "    model.add(layers.Dense(size_hidden, input_dim = 250))\n",
    "    \n",
    "    if size_hidden_2 != None:\n",
    "      if reg_weight != None:\n",
    "        model.add(layers.Dense(size_hidden_2, activation = 'relu',\n",
    "                              kernel_regularizer=regularizers.l2(l = reg_weight)))\n",
    "      else:\n",
    "        model.add(layers.Dense(size_hidden_2, activation = 'relu'))\n",
    "\n",
    "    #model.add(layers.Dropout(0.8))\n",
    "    \n",
    "    model.add(layers.Dense(5, activation='softmax'))\n",
    "    model.compile(optimizer = tf.optimizers.Adam(learning_rate = learning_rate),\n",
    "                  loss = tf.keras.losses.CategoricalCrossentropy(),\n",
    "                  metrics=[tf.keras.metrics.CategoricalAccuracy()])\n",
    "    #model.summary()\n",
    "    return model"
   ]
  },
  {
   "cell_type": "markdown",
   "metadata": {
    "colab_type": "text",
    "id": "Mj-NXbjPzmng"
   },
   "source": [
    "## FFNN gridsearch CV"
   ]
  },
  {
   "cell_type": "code",
   "execution_count": null,
   "metadata": {
    "colab": {},
    "colab_type": "code",
    "id": "sf2r-kyAtArG"
   },
   "outputs": [],
   "source": [
    "def ffnn_gridsearch_cv(grids, data, n_folds, n_epochs, return_plot_data = False):\n",
    "  \"\"\"For each parameters combination in params grid, performs an n_folds-cv,\n",
    "  plots accuracy and loss for all parameters combinations, averaged over n_folds.\n",
    "  \"\"\"\n",
    "  train_loss = []\n",
    "  train_acc = []\n",
    "  val_loss = []\n",
    "  val_acc = []\n",
    "\n",
    "  transformer = StdTransformer()\n",
    "\n",
    "  df_gridsearch = pd.DataFrame()\n",
    "\n",
    "  avg_train_accuracy = []\n",
    "  avg_test_accuracy = []\n",
    "  avg_train_loss = []\n",
    "  avg_test_loss = []\n",
    "  diff_loss = []\n",
    "  nodes_1 = []\n",
    "  nodes_2 = []\n",
    "  stepsizes = []\n",
    "  l2_list = []\n",
    "\n",
    "  for params_grid in grids:\n",
    "    \n",
    "    print(f\"Training with {params_grid['size_hidden']}-nodes\",\n",
    "          f\"1st hidden layer and {params_grid['size_hidden_2']}-nodes 2nd hidden layer,\\n\",\n",
    "          f\"{params_grid['learning_rate']} learning rate\",\n",
    "          f\"and {params_grid['reg_weight']} l2 regularization parameter\")\n",
    "\n",
    "    k_fold = StratifiedKFold(n_splits = n_folds, shuffle = True, random_state=32)\n",
    "\n",
    "    train_acc_param = np.zeros((n_folds, n_epochs))\n",
    "    val_acc_param = np.zeros((n_folds, n_epochs))\n",
    "    train_loss_param = np.zeros((n_folds, n_epochs))\n",
    "    val_loss_param = np.zeros((n_folds, n_epochs))\n",
    "\n",
    "    curr_fold = 0\n",
    "    \n",
    "    for train_index, test_index in k_fold.split(data, y_complete):\n",
    "      ff_nn = create_ff_model(**params_grid)\n",
    "\n",
    "      print(f\"Fold {curr_fold}\")\n",
    "      x_train, x_validation = data[train_index], data[test_index]\n",
    "      y_train, y_validation = y_complete[train_index], y_complete[test_index]\n",
    "\n",
    "      # transform train and validation data to standardized form\n",
    "      transformer.fit(x_train)\n",
    "      x_train = transformer.transform(x_train)\n",
    "      x_validation = transformer.transform(x_validation)\n",
    "\n",
    "      # transform y_validation in one-hot version\n",
    "      y_train = tf.keras.utils.to_categorical(y_train, 5)\n",
    "      y_validation = tf.keras.utils.to_categorical(y_validation, 5)\n",
    "\n",
    "      history = ff_nn.fit(x_train, y_train, validation_data = (x_validation, y_validation),\n",
    "                batch_size = 10, epochs = n_epochs, verbose = False)\n",
    "      \n",
    "      train_acc_param[curr_fold] = np.array(\n",
    "          history.history['categorical_accuracy'])\n",
    "      #print(f\"\\tTrain cat. accuracy: {history.history['categorical_accuracy'][-1]}\")\n",
    "      \n",
    "      val_acc_param[curr_fold] = np.array(\n",
    "          history.history['val_categorical_accuracy'])\n",
    "      #print(f\"\\tValidation cat. accuracy: {history.history['val_categorical_accuracy'][-1]}\")\n",
    "      \n",
    "      train_loss_param[curr_fold] = np.array(\n",
    "          history.history['loss'])\n",
    "      #print(f\"\\tTrain cat. loss: {history.history['loss'][90:]}\")\n",
    "      \n",
    "      val_loss_param[curr_fold] = np.array(\n",
    "          history.history['val_loss'])\n",
    "      #print(f\"\\tValidation cat. loss: {history.history['val_loss'][90:]}\")\n",
    "      \n",
    "      curr_fold += 1\n",
    "  \n",
    "    train_acc.append(train_acc_param.mean(axis = 0))\n",
    "    avg_train_accuracy.append(train_acc[-1][-1])\n",
    "    \n",
    "    val_acc.append(val_acc_param.mean(axis = 0))\n",
    "    avg_test_accuracy.append(val_acc[-1][-1])\n",
    "\n",
    "    nodes_1.append(params_grid[\"size_hidden\"])\n",
    "    nodes_2.append(params_grid[\"size_hidden_2\"])\n",
    "    stepsizes.append(params_grid[\"learning_rate\"])\n",
    "    l2_list.append(params_grid[\"reg_weight\"])\n",
    "\n",
    "    train_loss.append(train_loss_param.mean(axis = 0))\n",
    "    avg_train_loss.append(train_loss[-1][-1])\n",
    "    \n",
    "    val_loss.append(val_loss_param.mean(axis = 0))\n",
    "    avg_test_loss.append(val_loss[-1][-1])\n",
    "  \n",
    "    diff_loss.append(np.abs(avg_train_loss[-1] - avg_test_loss[-1]))\n",
    "\n",
    "  df_gridsearch[\"Avg. train accuracy\"] = avg_train_accuracy\n",
    "  df_gridsearch[\"Avg. test accuracy\"] = avg_test_accuracy\n",
    "  df_gridsearch[\"Avg. train loss\"] = avg_train_loss\n",
    "  df_gridsearch[\"Avg. test loss\"] = avg_test_loss\n",
    "  df_gridsearch[\"Diff. loss\"] = diff_loss\n",
    "  df_gridsearch[\"# nodes 1\"] = nodes_1\n",
    "  df_gridsearch[\"# nodes 2\"] = nodes_2\n",
    "  df_gridsearch[\"Stepsize\"] = stepsizes\n",
    "  df_gridsearch[\"l2\"] = l2_list\n",
    "\n",
    "  return df_gridsearch, train_loss, train_acc, val_loss, val_acc"
   ]
  },
  {
   "cell_type": "markdown",
   "metadata": {
    "colab_type": "text",
    "id": "XkedmzfcLzC3"
   },
   "source": [
    "# Logistic Regression"
   ]
  },
  {
   "cell_type": "markdown",
   "metadata": {
    "colab_type": "text",
    "id": "RlVlCWGxL-eZ"
   },
   "source": [
    "## parameters grid"
   ]
  },
  {
   "cell_type": "code",
   "execution_count": null,
   "metadata": {
    "colab": {},
    "colab_type": "code",
    "id": "oLH_OIjlL1Zm"
   },
   "outputs": [],
   "source": [
    "lr_parameters_grid = [\n",
    "                      {\"clf__solver\" : [\"liblinear\"], \n",
    "                       \"clf__penalty\" : [\"l1\", \"l2\"],\n",
    "                       \"clf__tol\" : [1e-3, 1e-4, 1e-5], \n",
    "                       \"clf__C\" : [0.001, 0.01, 0.1, 1, 10, 100],\n",
    "                       \"clf__fit_intercept\" : [True, False],\n",
    "                       \"clf__class_weight\" : [None, \"balanced\"],\n",
    "                       \"clf__max_iter\" : [3500]},\n",
    "                      \n",
    "                      {\"clf__solver\" : [\"liblinear\"], \n",
    "                       \"clf__penalty\" : [\"l2\"],\n",
    "                       \"clf__dual\" : [True], \n",
    "                       \"clf__tol\" : [1e-3, 1e-4, 1e-5],\n",
    "                       \"clf__C\" : [0.001, 0.01, 0.1, 1, 10, 100], \n",
    "                       \"clf__fit_intercept\" : [True, False],\n",
    "                       \"clf__class_weight\" : [None, \"balanced\"],\n",
    "                       \"clf__max_iter\" : [3500]}\n",
    "]\n"
   ]
  },
  {
   "cell_type": "code",
   "execution_count": null,
   "metadata": {
    "colab": {},
    "colab_type": "code",
    "id": "9P4G-idwMAIc"
   },
   "outputs": [],
   "source": [
    "# grid search using pipeline\n",
    "\n",
    "pipe_list = [('std_trans', StdTransformer()), ('clf', LogisticRegression())]\n",
    "pipe = Pipeline(pipe_list)"
   ]
  },
  {
   "cell_type": "markdown",
   "metadata": {
    "colab_type": "text",
    "id": "LjOc-rJpMFAI"
   },
   "source": [
    "## grid search"
   ]
  },
  {
   "cell_type": "code",
   "execution_count": null,
   "metadata": {
    "colab": {},
    "colab_type": "code",
    "id": "ReYS2LzaMErL"
   },
   "outputs": [],
   "source": [
    "stratCV = StratifiedKFold(n_splits = 10, shuffle = True)\n",
    "\n",
    "clf_lr = GridSearchCV(pipe, lr_parameters_grid,\n",
    "                      cv = stratCV, return_train_score = 1)\n",
    "clf_lr.fit(x_complete_nostop, y_complete)"
   ]
  },
  {
   "cell_type": "markdown",
   "metadata": {
    "colab_type": "text",
    "id": "r8YRZgAvuEUR"
   },
   "source": [
    "## dataframe log reg"
   ]
  },
  {
   "cell_type": "code",
   "execution_count": null,
   "metadata": {
    "colab": {},
    "colab_type": "code",
    "id": "kU6RvsYyuAu5"
   },
   "outputs": [],
   "source": [
    "# creating grid-search results dataframe\n",
    "lr_grid_search_df = pd.DataFrame()\n",
    "lr_grid_search_df[\"CV Test Acc. mean\"] = clf_lr.cv_results_['mean_test_score']\n",
    "lr_grid_search_df[\"CV Test Acc. std\"] = clf_lr.cv_results_['std_test_score']\n",
    "lr_grid_search_df[\"CV Train Acc. mean\"] = clf_lr.cv_results_['mean_train_score']\n",
    "lr_grid_search_df[\"CV Train Acc. std\"] = clf_lr.cv_results_['std_train_score']\n",
    "lr_grid_search_df[\"CV Acc. difference\"] = np.abs(\n",
    "    lr_grid_search_df[\"CV Test Acc. mean\"] - lr_grid_search_df[\"CV Train Acc. mean\"])\n",
    "\n",
    "solver_list = []\n",
    "penalty_list = []\n",
    "tol_list = []\n",
    "C_list = []\n",
    "class_weight_list = []\n",
    "fit_intercept_list = []\n",
    "maxiter_list = []\n",
    "dual_list = []\n",
    "\n",
    "# unpacking parmeters dictionary\n",
    "for param_dict in clf_lr.cv_results_[\"params\"]:\n",
    "  solver_list.append(param_dict[\"clf__solver\"])\n",
    "  penalty_list.append(param_dict[\"clf__penalty\"])\n",
    "  tol_list.append(param_dict[\"clf__tol\"])\n",
    "  C_list.append(param_dict[\"clf__C\"])\n",
    "  class_weight_list.append(param_dict[\"clf__class_weight\"])\n",
    "  fit_intercept_list.append(param_dict[\"clf__fit_intercept\"])\n",
    "  maxiter_list.append(param_dict[\"clf__max_iter\"])\n",
    "\n",
    "  if \"clf__dual\" in param_dict:\n",
    "    dual_list.append(param_dict[\"clf__dual\"])\n",
    "  else:\n",
    "    dual_list.append(False)\n",
    "\n",
    "lr_grid_search_df[\"solver\"] = solver_list\n",
    "lr_grid_search_df[\"penalty\"] = penalty_list\n",
    "lr_grid_search_df[\"tol\"] = tol_list\n",
    "lr_grid_search_df[\"C\"] = C_list\n",
    "lr_grid_search_df[\"class_weight\"] = class_weight_list\n",
    "lr_grid_search_df[\"fit_intercept\"] = fit_intercept_list\n",
    "lr_grid_search_df[\"max_iter\"] = maxiter_list\n",
    "lr_grid_search_df[\"dual\"] = dual_list"
   ]
  },
  {
   "cell_type": "code",
   "execution_count": null,
   "metadata": {
    "colab": {},
    "colab_type": "code",
    "id": "V8oP_-3DuDKv"
   },
   "outputs": [],
   "source": [
    "lr_grid_search_df.sort_values([\"CV Acc. difference\", \"CV Test Acc. mean\"],\n",
    "                           ascending = [True, False])[50:100]"
   ]
  },
  {
   "cell_type": "markdown",
   "metadata": {
    "colab_type": "text",
    "id": "vsnOrkHsMHQ0"
   },
   "source": [
    "## model fitting"
   ]
  },
  {
   "cell_type": "code",
   "execution_count": null,
   "metadata": {
    "colab": {
     "base_uri": "https://localhost:8080/",
     "height": 388
    },
    "colab_type": "code",
    "id": "JKCM_PDQMJIT",
    "outputId": "c50dbe66-14ae-4a3c-84ab-df8c1a10b46e"
   },
   "outputs": [
    {
     "data": {
      "image/png": "[encoded data removed]",
      "text/plain": [
       "<Figure size 576x432 with 1 Axes>"
      ]
     },
     "metadata": {
      "needs_background": "light",
      "tags": []
     },
     "output_type": "display_data"
    }
   ],
   "source": [
    "fixed_parameters = {\"solver\" : \"liblinear\", \"penalty\" : \"l2\", \"max_iter\" : 3500, \"tol\" : 0.001,\n",
    "                    \"class_weight\" : \"balanced\", \"dual\" : False, \"fit_intercept\" : True}\n",
    "\n",
    "varying = [{\"C\" : 0.001},\n",
    "           {\"C\" : 0.1},\n",
    "           {\"C\" : 10}]\n",
    "\n",
    "model = LogisticRegression\n",
    "\n",
    "grid_search_lc(model, varying, fixed_parameters, x_complete_nostop,\n",
    "               y_complete, 10, hline = [1, 0, 0], scoring_metric = \"accuracy\")\n",
    "\n",
    "_ = plt.ylabel(\"Accuracy\")\n",
    "_ = plt.xlabel(\"# Training samples\")\n",
    "_ = plt.ylim(0.2, 1.05)\n",
    "_ = plt.savefig(\"./logreg_overfit.png\", dpi = 200)"
   ]
  },
  {
   "cell_type": "markdown",
   "metadata": {
    "colab_type": "text",
    "id": "3vdresaQGyyg"
   },
   "source": [
    "## confusion matrix heatmap"
   ]
  },
  {
   "cell_type": "code",
   "execution_count": null,
   "metadata": {
    "colab": {
     "base_uri": "https://localhost:8080/",
     "height": 529
    },
    "colab_type": "code",
    "id": "hJfPsdzYGzkK",
    "outputId": "38f457a1-5f8d-4634-d744-9b5735562319"
   },
   "outputs": [
    {
     "name": "stdout",
     "output_type": "stream",
     "text": [
      "Accuracy Score -> 71.42857142857143\n",
      "Accuracy Score -> 78.57142857142857\n",
      "Accuracy Score -> 69.23076923076923\n",
      "Accuracy Score -> 61.53846153846154\n",
      "Accuracy Score -> 84.61538461538461\n",
      "Accuracy Score -> 69.23076923076923\n",
      "Accuracy Score -> 61.53846153846154\n",
      "Accuracy Score -> 61.53846153846154\n",
      "Accuracy Score -> 46.15384615384615\n",
      "Accuracy Score -> 69.23076923076923\n",
      "Average accuracy over 10 folds: 67.3076923076923\n"
     ]
    },
    {
     "data": {
      "image/png": "[encoded data removed]",
      "text/plain": [
       "<Figure size 432x288 with 2 Axes>"
      ]
     },
     "metadata": {
      "needs_background": "light",
      "tags": []
     },
     "output_type": "display_data"
    }
   ],
   "source": [
    "params = {\"solver\" : \"liblinear\", \"penalty\" : \"l2\", \"max_iter\" : 3500, \"tol\" : 0.001,\n",
    "          \"C\" : 0.001, \"class_weight\" : \"balanced\", \"dual\" : False, \"fit_intercept\" : True}\n",
    "model = LogisticRegression(**params)\n",
    "CV_heatmap(model, 10)"
   ]
  },
  {
   "cell_type": "markdown",
   "metadata": {
    "colab_type": "text",
    "id": "zFxQpAzaMhMK"
   },
   "source": [
    "## create test prediction"
   ]
  },
  {
   "cell_type": "code",
   "execution_count": null,
   "metadata": {
    "colab": {},
    "colab_type": "code",
    "id": "cMF8l2raMjLQ"
   },
   "outputs": [],
   "source": [
    "##################################################\n",
    "# Save your test prediction in y_test_pred\n",
    "##################################################\n",
    "params = {\"C\" : 0.001, \"solver\" : \"liblinear\", \"penalty\" : \"l2\",\n",
    "          \"max_iter\" : 3500, \"tol\" : 0.001, \"class_weight\" : \"balanced\",\n",
    "          \"dual\" : False, \"fit_intercept\" : True}\n",
    "\n",
    "transformer = StdTransformer()\n",
    "transformer.fit(x_complete_nostop)\n",
    "x_complete_nostop_trans = transformer.transform(x_complete_nostop)\n",
    "x_test_transf = transformer.transform(x_test_nostop)\n",
    "\n",
    "y_test_pred = LogisticRegression(**params).fit(\n",
    "    x_complete_nostop_trans, y_complete).predict(x_test_transf)\n",
    "\n",
    "# Create submission\n",
    "submission = pd.read_csv(PATH_SUBMISSION)\n",
    "\n",
    "if y_test_pred is not None:\n",
    "    submission['class'] = y_test_pred\n",
    "submission.to_csv('my_submission_logreg.csv', index=False)"
   ]
  },
  {
   "cell_type": "code",
   "execution_count": null,
   "metadata": {
    "colab": {
     "base_uri": "https://localhost:8080/",
     "height": 54
    },
    "colab_type": "code",
    "id": "G-Aq_9WBrh-o",
    "outputId": "74166377-6b5b-43f5-a6ba-50c66211800c"
   },
   "outputs": [
    {
     "name": "stdout",
     "output_type": "stream",
     "text": [
      "Drive already mounted at /content/drive; to attempt to forcibly remount, call drive.mount(\"/content/drive\", force_remount=True).\n"
     ]
    }
   ],
   "source": [
    "from google.colab import drive\n",
    "drive.mount('/content/drive')"
   ]
  },
  {
   "cell_type": "markdown",
   "metadata": {
    "colab_type": "text",
    "id": "jJjNefEcIr09"
   },
   "source": [
    "#SVM"
   ]
  },
  {
   "cell_type": "markdown",
   "metadata": {
    "colab_type": "text",
    "id": "3pbpf0q9IumH"
   },
   "source": [
    "## parameters grid"
   ]
  },
  {
   "cell_type": "code",
   "execution_count": null,
   "metadata": {
    "colab": {},
    "colab_type": "code",
    "id": "KogLIAf_IaKd"
   },
   "outputs": [],
   "source": [
    "# hyperparameters SVM:\n",
    "# - Kernel: The main function of the kernel is to take low dimensional input space and transform it into a higher-dimensional space. \n",
    "# It is mostly useful in non-linear separation problem.\n",
    "\n",
    "# - C: C is the penalty parameter, which represents misclassification or error term. \n",
    "# The misclassification or error term tells the SVM optimisation how much error is bearable. \n",
    "# This is how you can control the trade-off between decision boundary and misclassification term.\n",
    "# The higher is C (the lower is lambda), the higher will be the number of examples of the training correctly classified.\n",
    "# So, I will overfit. \n",
    "\n",
    "# Gamma: It defines how far influences the calculation of plausible line of separation.\n",
    "# For high values of Gamma, only nearest point to the boundary are considered.\n",
    "# For low values of Gamma, far away points are considered.\n",
    "\n",
    "\n",
    "\n",
    "parameters_grid =[{'clf__kernel': ['rbf'],\n",
    "                   'clf__gamma': [1e-4, 1e-3, 0.001, 0.01, 0.1, 'scale', 'auto'],\n",
    "                   'clf__C': [0.01, 0.1, 1, 10, 100],\n",
    "                   'clf__class_weight':[None, 'balanced']},\n",
    "                  \n",
    "                  {'clf__kernel': ['linear'], \n",
    "                   'clf__C': [0.01, 0.1, 1, 10, 100],\n",
    "                   'clf__class_weight':[None, 'balanced']},\n",
    "                  \n",
    "                  {'clf__kernel': ['poly'], \n",
    "                   'clf__degree': [0.5, 1, 2, 3, 4, 5, 6], \n",
    "                   'clf__gamma': [1e-4, 1e-3, 0.001, 0.01, 0.1, 'scale', 'auto'],\n",
    "                   'clf__coef0': [0.001, 0.005, 0.01, 0.1, 1, 10, 100], \n",
    "                   'clf__C': [0.01, 0.1, 1, 10, 100],\n",
    "                   'clf__class_weight':[None, 'balanced']},\n",
    "                  \n",
    "                  {'clf__kernel': ['sigmoid'], \n",
    "                   'clf__coef0': [0.001, 0.005, 0.01, 0.1, 1, 10, 100],\n",
    "                   'clf__gamma': [1e-4, 1e-3, 0.001, 0.01, 0.1, 'scale', 'auto'],\n",
    "                   'clf__C': [0.01, 0.1, 1, 10, 100],\n",
    "                   'clf__class_weight':[None, 'balanced']}]"
   ]
  },
  {
   "cell_type": "markdown",
   "metadata": {
    "colab_type": "text",
    "id": "kZrw1O-3IxX0"
   },
   "source": [
    "## grid search"
   ]
  },
  {
   "cell_type": "code",
   "execution_count": null,
   "metadata": {
    "colab": {},
    "colab_type": "code",
    "id": "6Dxooad3IwaH"
   },
   "outputs": [],
   "source": [
    "# grid search using pipeline\n",
    "\n",
    "pipe_list = [('Std_trans', StdTransformer()), ('clf', svm.SVC())]\n",
    "pipe = Pipeline(pipe_list)"
   ]
  },
  {
   "cell_type": "code",
   "execution_count": null,
   "metadata": {
    "colab": {
     "base_uri": "https://localhost:8080/",
     "height": 425
    },
    "colab_type": "code",
    "id": "Y07AVY1YI51-",
    "outputId": "45391118-786f-4aa0-bd35-6ce500c62ca2"
   },
   "outputs": [
    {
     "data": {
      "text/plain": [
       "GridSearchCV(cv=StratifiedKFold(n_splits=10, random_state=None, shuffle=True),\n",
       "             error_score=nan,\n",
       "             estimator=Pipeline(memory=None,\n",
       "                                steps=[('Std_trans', StdTransformer()),\n",
       "                                       ('clf',\n",
       "                                        SVC(C=1.0, break_ties=False,\n",
       "                                            cache_size=200, class_weight=None,\n",
       "                                            coef0=0.0,\n",
       "                                            decision_function_shape='ovr',\n",
       "                                            degree=3, gamma='scale',\n",
       "                                            kernel='rbf', max_iter=-1,\n",
       "                                            probability=False,\n",
       "                                            random_state=Non...\n",
       "                          'clf__gamma': [0.0001, 0.001, 0.001, 0.01, 0.1,\n",
       "                                         'scale', 'auto'],\n",
       "                          'clf__kernel': ['poly']},\n",
       "                         {'clf__C': [0.01, 0.1, 1, 10, 100],\n",
       "                          'clf__class_weight': [None, 'balanced'],\n",
       "                          'clf__coef0': [0.001, 0.005, 0.01, 0.1, 1, 10, 100],\n",
       "                          'clf__gamma': [0.0001, 0.001, 0.001, 0.01, 0.1,\n",
       "                                         'scale', 'auto'],\n",
       "                          'clf__kernel': ['sigmoid']}],\n",
       "             pre_dispatch='2*n_jobs', refit=True, return_train_score=1,\n",
       "             scoring=None, verbose=0)"
      ]
     },
     "execution_count": 55,
     "metadata": {
      "tags": []
     },
     "output_type": "execute_result"
    }
   ],
   "source": [
    "stratCV = StratifiedKFold(n_splits = 10, shuffle = True)\n",
    "\n",
    "clf_svm = GridSearchCV(pipe, parameters_grid, cv = stratCV, return_train_score = 1)\n",
    "clf_svm.fit(x_complete_nostop, y_complete)"
   ]
  },
  {
   "cell_type": "markdown",
   "metadata": {
    "colab_type": "text",
    "id": "9ByUTzVutRiI"
   },
   "source": [
    "## dataframe SVM"
   ]
  },
  {
   "cell_type": "code",
   "execution_count": null,
   "metadata": {
    "colab": {},
    "colab_type": "code",
    "id": "23dsB6vNtP2j"
   },
   "outputs": [],
   "source": [
    "# creating a dataframe with grid search results for easier interpretation\n",
    "grid_search_df = pd.DataFrame(columns=[\"Balanced\",\"CV Acc. test mean\", \"CV Acc. train mean\",\n",
    "                                       \"CV Acc. difference\",\n",
    "                                       \"CV Acc. test std\", \"CV Acc. train std\", \"C\",\n",
    "                                       \"r\", \"gamma\", \"degree\", \"kernel\"])\n",
    "grid_search_df[\"CV Acc. test mean\"] = clf_svm.cv_results_['mean_test_score']\n",
    "grid_search_df[\"CV Acc. test std\"] = clf_svm.cv_results_['std_test_score']\n",
    "grid_search_df[\"CV Acc. train mean\"] = clf_svm.cv_results_['mean_train_score']\n",
    "grid_search_df[\"CV Acc. train std\"] = clf_svm.cv_results_['std_train_score']\n",
    "grid_search_df[\"CV Acc. difference\"] = np.abs(\n",
    "    grid_search_df[\"CV Acc. test mean\"] - grid_search_df[\"CV Acc. train mean\"])\n",
    "\n",
    "balanced_list = []\n",
    "C_list = []\n",
    "r_list = []\n",
    "gammas = []\n",
    "degree_list = []\n",
    "kernel_list = []\n",
    "\n",
    "# unpacking parmeters dictionary\n",
    "for param_dict in clf_svm.cv_results_[\"params\"]:\n",
    "  C_list.append(param_dict[\"clf__C\"])\n",
    "  kernel_list.append(param_dict[\"clf__kernel\"])\n",
    "  balanced_list.append(param_dict[\"clf__class_weight\"])\n",
    "\n",
    "\n",
    "  if \"clf__gamma\" in param_dict:\n",
    "    gammas.append(param_dict[\"clf__gamma\"])\n",
    "  else:\n",
    "    gammas.append(None)\n",
    "\n",
    "  if \"clf__coef0\" in param_dict:\n",
    "    r_list.append(param_dict[\"clf__coef0\"])\n",
    "  else:\n",
    "    r_list.append(None)\n",
    "\n",
    "  if \"clf__degree\" in param_dict:\n",
    "    degree_list.append(param_dict[\"clf__degree\"])\n",
    "  else:\n",
    "    degree_list.append(None)\n",
    "\n",
    "grid_search_df[\"Balanced\"] = balanced_list\n",
    "grid_search_df[\"C\"] = C_list\n",
    "grid_search_df[\"kernel\"] = kernel_list\n",
    "grid_search_df[\"gamma\"] = gammas\n",
    "grid_search_df[\"r\"] = r_list\n",
    "grid_search_df[\"degree\"] = degree_list"
   ]
  },
  {
   "cell_type": "code",
   "execution_count": null,
   "metadata": {
    "colab": {
     "base_uri": "https://localhost:8080/",
     "height": 128
    },
    "colab_type": "code",
    "id": "Y-cbZMfxuMyU",
    "outputId": "e302275c-fa73-4dce-e7df-8bc6afc5f3c8"
   },
   "outputs": [
    {
     "data": {
      "text/html": [
       "<div>\n",
       "<style scoped>\n",
       "    .dataframe tbody tr th:only-of-type {\n",
       "        vertical-align: middle;\n",
       "    }\n",
       "\n",
       "    .dataframe tbody tr th {\n",
       "        vertical-align: top;\n",
       "    }\n",
       "\n",
       "    .dataframe thead th {\n",
       "        text-align: right;\n",
       "    }\n",
       "</style>\n",
       "<table border=\"1\" class=\"dataframe\">\n",
       "  <thead>\n",
       "    <tr style=\"text-align: right;\">\n",
       "      <th></th>\n",
       "      <th>Balanced</th>\n",
       "      <th>CV Acc. test mean</th>\n",
       "      <th>CV Acc. train mean</th>\n",
       "      <th>CV Acc. difference</th>\n",
       "      <th>CV Acc. test std</th>\n",
       "      <th>CV Acc. train std</th>\n",
       "      <th>C</th>\n",
       "      <th>r</th>\n",
       "      <th>gamma</th>\n",
       "      <th>degree</th>\n",
       "      <th>kernel</th>\n",
       "    </tr>\n",
       "  </thead>\n",
       "  <tbody>\n",
       "    <tr>\n",
       "      <th>3887</th>\n",
       "      <td>balanced</td>\n",
       "      <td>0.701648</td>\n",
       "      <td>0.845122</td>\n",
       "      <td>0.143473</td>\n",
       "      <td>0.123744</td>\n",
       "      <td>0.009279</td>\n",
       "      <td>10.0</td>\n",
       "      <td>1.0</td>\n",
       "      <td>auto</td>\n",
       "      <td>NaN</td>\n",
       "      <td>sigmoid</td>\n",
       "    </tr>\n",
       "    <tr>\n",
       "      <th>3838</th>\n",
       "      <td>None</td>\n",
       "      <td>0.708791</td>\n",
       "      <td>0.862790</td>\n",
       "      <td>0.153999</td>\n",
       "      <td>0.157894</td>\n",
       "      <td>0.012535</td>\n",
       "      <td>10.0</td>\n",
       "      <td>1.0</td>\n",
       "      <td>auto</td>\n",
       "      <td>NaN</td>\n",
       "      <td>sigmoid</td>\n",
       "    </tr>\n",
       "  </tbody>\n",
       "</table>\n",
       "</div>"
      ],
      "text/plain": [
       "      Balanced  CV Acc. test mean  CV Acc. train mean  ...  gamma  degree   kernel\n",
       "3887  balanced           0.701648            0.845122  ...   auto     NaN  sigmoid\n",
       "3838      None           0.708791            0.862790  ...   auto     NaN  sigmoid\n",
       "\n",
       "[2 rows x 11 columns]"
      ]
     },
     "execution_count": 98,
     "metadata": {
      "tags": []
     },
     "output_type": "execute_result"
    }
   ],
   "source": [
    "grid_search_df.sort_values([\"CV Acc. difference\", \"CV Acc. test mean\"],\n",
    "                           ascending = [True, False])\n"
   ]
  },
  {
   "cell_type": "markdown",
   "metadata": {
    "colab_type": "text",
    "id": "Pqpy1R8kJPFi"
   },
   "source": [
    "## model fitting - sigmoid"
   ]
  },
  {
   "cell_type": "code",
   "execution_count": null,
   "metadata": {
    "colab": {
     "base_uri": "https://localhost:8080/",
     "height": 388
    },
    "colab_type": "code",
    "id": "sWDwSVKrNqxK",
    "outputId": "76afe34a-01a8-4df7-d4b6-6399293cab1e"
   },
   "outputs": [
    {
     "data": {
      "image/png": "[encoded data removed]",
      "text/plain": [
       "<Figure size 576x432 with 1 Axes>"
      ]
     },
     "metadata": {
      "needs_background": "light",
      "tags": []
     },
     "output_type": "display_data"
    }
   ],
   "source": [
    "# try to graphically represent the behaviour observed in the grid search\n",
    "# observe overfitting and underfitting sigmoid\n",
    "settings_list = [{\"C\" : 1},\n",
    "                 {\"C\" : 1e1},\n",
    "                 {\"C\" : 1e2}]\n",
    "fixed_params = {\"class_weight\":'balanced', \"kernel\" : \"sigmoid\", \"gamma\" : \"auto\", \"coef0\" : 1}\n",
    "\n",
    "model = svm.SVC\n",
    "\n",
    "grid_search_lc(model, settings_list, fixed_params, x_complete_nostop,\n",
    "               y_complete, 10, hline = [0, 1, 0], scoring_metric = \"accuracy\")\n",
    "\n",
    "_ = plt.ylabel(\"Accuracy\")\n",
    "_ = plt.xlabel(\"# Training of samples\")\n",
    "\n",
    "_ = plt.savefig(\"./svm_overfit.png\", dpi = 200)"
   ]
  },
  {
   "cell_type": "markdown",
   "metadata": {
    "colab_type": "text",
    "id": "xGOFFPakJZHO"
   },
   "source": [
    "## create test prediction"
   ]
  },
  {
   "cell_type": "code",
   "execution_count": null,
   "metadata": {
    "colab": {},
    "colab_type": "code",
    "id": "53QkvRLzJbDy"
   },
   "outputs": [],
   "source": [
    "##################################################\n",
    "# Save your test prediction in y_test_pred\n",
    "##################################################\n",
    "params = {\"class_weight\":'balanced', \"C\":10, \"kernel\": \"sigmoid\", \"gamma\" : \"auto\", \"coef0\" : 1}\n",
    "#underfitting params\n",
    "#params = {\"C\" : 0.001, \"kernel\" : \"poly\", \"degree\" : 3, \"gamma\" : 1e-4, \"coef0\" : 100}\n",
    "\n",
    "transformer = StdTransformer()\n",
    "transformer.fit(x_complete_nostop)\n",
    "x_complete_nostop_trans = transformer.transform(x_complete_nostop)\n",
    "x_test_transf = transformer.transform(x_test_nostop)\n",
    "\n",
    "y_test_pred = svm.SVC(**params).fit(x_complete_nostop_trans, y_complete).predict(x_test_transf)\n",
    "\n",
    "# Create submission\n",
    "submission = pd.read_csv(PATH_SUBMISSION)\n",
    "\n",
    "if y_test_pred is not None:\n",
    "    submission['class'] = y_test_pred\n",
    "submission.to_csv('my_submission_svm.csv', index=False)"
   ]
  },
  {
   "cell_type": "markdown",
   "metadata": {
    "colab_type": "text",
    "id": "XMdzHS2Sd8dK"
   },
   "source": [
    "# FFNN"
   ]
  },
  {
   "cell_type": "markdown",
   "metadata": {
    "colab_type": "text",
    "id": "3Asg5J76M_98"
   },
   "source": [
    "## parameters grids"
   ]
  },
  {
   "cell_type": "code",
   "execution_count": null,
   "metadata": {
    "colab": {},
    "colab_type": "code",
    "id": "wCUFkiYXd97E"
   },
   "outputs": [],
   "source": [
    " ffnn_parameters_grid = [{ \"size_hidden\" : 150, \"size_hidden_2\" : None,\n",
    "                          \"learning_rate\" : 1e-4, \"reg_weight\" : None},\n",
    "                         { \"size_hidden\" : 100, \"size_hidden_2\" : None,\n",
    "                          \"learning_rate\" : 1e-4, \"reg_weight\" : None},\n",
    "                         { \"size_hidden\" : 50, \"size_hidden_2\" : None,\n",
    "                          \"learning_rate\" : 1e-4, \"reg_weight\" : None}]"
   ]
  },
  {
   "cell_type": "code",
   "execution_count": null,
   "metadata": {
    "colab": {},
    "colab_type": "code",
    "id": "P5tWTEeP747J"
   },
   "outputs": [],
   "source": [
    "grid_1_layer = [{ \"size_hidden\" : 150, \"size_hidden_2\" : None,\n",
    "          \"learning_rate\" : 1e-4, \"reg_weight\" : None},\n",
    "         { \"size_hidden\" : 100, \"size_hidden_2\" : None,\n",
    "          \"learning_rate\" : 1e-4, \"reg_weight\" : None},\n",
    "         { \"size_hidden\" : 50, \"size_hidden_2\" : None,\n",
    "          \"learning_rate\" : 1e-4, \"reg_weight\" : None}\n",
    "         ]"
   ]
  },
  {
   "cell_type": "code",
   "execution_count": null,
   "metadata": {
    "colab": {},
    "colab_type": "code",
    "id": "XM6oTBnfBgcH"
   },
   "outputs": [],
   "source": [
    "grid_1_layer_reg = [{ \"size_hidden\" : 150, \"size_hidden_2\" : None,\n",
    "          \"learning_rate\" : 1e-4, \"reg_weight\" : 1e-1},\n",
    "         { \"size_hidden\" : 100, \"size_hidden_2\" : None,\n",
    "          \"learning_rate\" : 1e-4, \"reg_weight\" : 1e-1},\n",
    "         { \"size_hidden\" : 50, \"size_hidden_2\" : None,\n",
    "          \"learning_rate\" : 1e-4, \"reg_weight\" : 1e-1}\n",
    "         ]"
   ]
  },
  {
   "cell_type": "code",
   "execution_count": null,
   "metadata": {
    "colab": {},
    "colab_type": "code",
    "id": "5xtgtCZWAPNU"
   },
   "outputs": [],
   "source": [
    "grid_2_layers = [{ \"size_hidden\" : 150, \"size_hidden_2\" : 150,\n",
    "          \"learning_rate\" : 1e-4, \"reg_weight\" : None},\n",
    "         { \"size_hidden\" : 150, \"size_hidden_2\" : 100,\n",
    "          \"learning_rate\" : 1e-4, \"reg_weight\" : None},\n",
    "         { \"size_hidden\" : 150, \"size_hidden_2\" : 50,\n",
    "          \"learning_rate\" : 1e-4, \"reg_weight\" : None}\n",
    "         ]"
   ]
  },
  {
   "cell_type": "code",
   "execution_count": null,
   "metadata": {
    "colab": {},
    "colab_type": "code",
    "id": "bdxI0WYXBwxg"
   },
   "outputs": [],
   "source": [
    "grid_2_layers_reg = [{ \"size_hidden\" : 150, \"size_hidden_2\" : 150,\n",
    "          \"learning_rate\" : 1e-4, \"reg_weight\" : 1e-1},\n",
    "         { \"size_hidden\" : 150, \"size_hidden_2\" : 100,\n",
    "          \"learning_rate\" : 1e-4, \"reg_weight\" : 1e-1},\n",
    "         { \"size_hidden\" : 150, \"size_hidden_2\" : 50,\n",
    "          \"learning_rate\" : 1e-4, \"reg_weight\" : 1e-1}\n",
    "         ]"
   ]
  },
  {
   "cell_type": "code",
   "execution_count": null,
   "metadata": {
    "colab": {},
    "colab_type": "code",
    "id": "ZXIfiklVNGKp"
   },
   "outputs": [],
   "source": [
    "grid_2_layers_reg_step = [{ \"size_hidden\" : 150, \"size_hidden_2\" : 50,\n",
    "          \"learning_rate\" : 1e-2, \"reg_weight\" : 1e-1},\n",
    "         { \"size_hidden\" : 150, \"size_hidden_2\" : 50,\n",
    "          \"learning_rate\" : 1e-3, \"reg_weight\" : 1e-1},\n",
    "         { \"size_hidden\" : 150, \"size_hidden_2\" : 50,\n",
    "          \"learning_rate\" : 1e-4, \"reg_weight\" : 1e-1}\n",
    "         ]"
   ]
  },
  {
   "cell_type": "markdown",
   "metadata": {
    "colab_type": "text",
    "id": "NKxFt99tgaSB"
   },
   "source": [
    "## grid search"
   ]
  },
  {
   "cell_type": "code",
   "execution_count": null,
   "metadata": {
    "colab": {
     "base_uri": "https://localhost:8080/",
     "height": 442
    },
    "colab_type": "code",
    "id": "K1it1kMAeKqB",
    "outputId": "26f8d446-c8db-42b9-adc1-febf5f60591d"
   },
   "outputs": [
    {
     "name": "stdout",
     "output_type": "stream",
     "text": [
      "Training with 150-nodes 1st hidden layer and None-nodes 2nd hidden layer,\n",
      " 0.0001 learning rate and None l2 regularization parameter\n",
      "Fold 0\n",
      "Fold 1\n",
      "Fold 2\n",
      "Fold 3\n",
      "Fold 4\n",
      "Fold 5\n",
      "Training with 100-nodes 1st hidden layer and None-nodes 2nd hidden layer,\n",
      " 0.0001 learning rate and None l2 regularization parameter\n",
      "Fold 0\n",
      "Fold 1\n",
      "Fold 2\n",
      "Fold 3\n",
      "Fold 4\n",
      "Fold 5\n",
      "Training with 50-nodes 1st hidden layer and None-nodes 2nd hidden layer,\n",
      " 0.0001 learning rate and None l2 regularization parameter\n",
      "Fold 0\n",
      "Fold 1\n",
      "Fold 2\n",
      "Fold 3\n",
      "Fold 4\n",
      "Fold 5\n"
     ]
    }
   ],
   "source": [
    "#First grid searh\n",
    "df_gridsearch, train_loss, train_acc, val_loss, val_acc = \\\n",
    "  ffnn_gridsearch_cv(ffnn_parameters_grid, x_complete_nostop, 6, n_epochs = 200)"
   ]
  },
  {
   "cell_type": "code",
   "execution_count": null,
   "metadata": {
    "colab": {
     "base_uri": "https://localhost:8080/",
     "height": 425
    },
    "colab_type": "code",
    "id": "g3Ntw5udcx8R",
    "outputId": "d6f18c38-088a-4402-8789-716c678629b5"
   },
   "outputs": [
    {
     "name": "stdout",
     "output_type": "stream",
     "text": [
      "Training with 150-nodes 1st hidden layer and None-nodes 2nd hidden layer,\n",
      " 0.0001 learning rate and None l2 regularization parameter\n",
      "Fold 0\n",
      "Fold 1\n",
      "Fold 2\n",
      "Fold 3\n",
      "Fold 4\n",
      "Fold 5\n",
      "Training with 100-nodes 1st hidden layer and None-nodes 2nd hidden layer,\n",
      " 0.0001 learning rate and None l2 regularization parameter\n",
      "Fold 0\n",
      "Fold 1\n",
      "Fold 2\n",
      "Fold 3\n",
      "Fold 4\n",
      "Fold 5\n",
      "Training with 50-nodes 1st hidden layer and None-nodes 2nd hidden layer,\n",
      " 0.0001 learning rate and None l2 regularization parameter\n",
      "Fold 0\n",
      "Fold 1\n",
      "Fold 2\n",
      "Fold 3\n",
      "Fold 4\n",
      "Fold 5\n"
     ]
    }
   ],
   "source": [
    "#ONE HIDDEN LAYER no regularized\n",
    "df_gridsearch_one_layer, train_loss, train_acc, val_loss, val_acc = \\\n",
    "  ffnn_gridsearch_cv(grid_1_layer, x_complete_nostop, 6, n_epochs = 200)"
   ]
  },
  {
   "cell_type": "code",
   "execution_count": null,
   "metadata": {
    "colab": {
     "base_uri": "https://localhost:8080/",
     "height": 425
    },
    "colab_type": "code",
    "id": "7bOObYGuhzLM",
    "outputId": "39ff5f31-997d-4162-a46e-b513144d5f15"
   },
   "outputs": [
    {
     "name": "stdout",
     "output_type": "stream",
     "text": [
      "Training with 150-nodes 1st hidden layer and 150-nodes 2nd hidden layer,\n",
      " 0.0001 learning rate and None l2 regularization parameter\n",
      "Fold 0\n",
      "Fold 1\n",
      "Fold 2\n",
      "Fold 3\n",
      "Fold 4\n",
      "Fold 5\n",
      "Training with 150-nodes 1st hidden layer and 100-nodes 2nd hidden layer,\n",
      " 0.0001 learning rate and None l2 regularization parameter\n",
      "Fold 0\n",
      "Fold 1\n",
      "Fold 2\n",
      "Fold 3\n",
      "Fold 4\n",
      "Fold 5\n",
      "Training with 150-nodes 1st hidden layer and 50-nodes 2nd hidden layer,\n",
      " 0.0001 learning rate and None l2 regularization parameter\n",
      "Fold 0\n",
      "Fold 1\n",
      "Fold 2\n",
      "Fold 3\n",
      "Fold 4\n",
      "Fold 5\n"
     ]
    }
   ],
   "source": [
    "#Two hidden layers no regularized\n",
    "df_gridsearch_two_layers, train_loss, train_acc, val_loss, val_acc = \\\n",
    "  ffnn_gridsearch_cv(grid_2_layers, x_complete_nostop, 6, n_epochs = 200)"
   ]
  },
  {
   "cell_type": "code",
   "execution_count": null,
   "metadata": {
    "colab": {
     "base_uri": "https://localhost:8080/",
     "height": 425
    },
    "colab_type": "code",
    "id": "ZBUPYkrYeaLV",
    "outputId": "ae38b6f3-4ad6-4eb7-d4f6-85c553362eb0"
   },
   "outputs": [
    {
     "name": "stdout",
     "output_type": "stream",
     "text": [
      "Training with 150-nodes 1st hidden layer and 150-nodes 2nd hidden layer,\n",
      " 0.0001 learning rate and 0.1 l2 regularization parameter\n",
      "Fold 0\n",
      "Fold 1\n",
      "Fold 2\n",
      "Fold 3\n",
      "Fold 4\n",
      "Fold 5\n",
      "Training with 150-nodes 1st hidden layer and 100-nodes 2nd hidden layer,\n",
      " 0.0001 learning rate and 0.1 l2 regularization parameter\n",
      "Fold 0\n",
      "Fold 1\n",
      "Fold 2\n",
      "Fold 3\n",
      "Fold 4\n",
      "Fold 5\n",
      "Training with 150-nodes 1st hidden layer and 50-nodes 2nd hidden layer,\n",
      " 0.0001 learning rate and 0.1 l2 regularization parameter\n",
      "Fold 0\n",
      "Fold 1\n",
      "Fold 2\n",
      "Fold 3\n",
      "Fold 4\n",
      "Fold 5\n"
     ]
    }
   ],
   "source": [
    "#Two hidden layers regularized\n",
    "df_gridsearch_two_layers_regularized, train_loss, train_acc, val_loss, val_acc = \\\n",
    "  ffnn_gridsearch_cv(grid_2_layers_reg, x_complete_nostop, 6, n_epochs = 200)"
   ]
  },
  {
   "cell_type": "code",
   "execution_count": null,
   "metadata": {
    "colab": {
     "base_uri": "https://localhost:8080/",
     "height": 425
    },
    "colab_type": "code",
    "id": "UZjhl02csOeN",
    "outputId": "aa935eea-97af-4679-9bea-a7fc09996016"
   },
   "outputs": [
    {
     "name": "stdout",
     "output_type": "stream",
     "text": [
      "Training with 150-nodes 1st hidden layer and 50-nodes 2nd hidden layer,\n",
      " 0.01 learning rate and 0.1 l2 regularization parameter\n",
      "Fold 0\n",
      "Fold 1\n",
      "Fold 2\n",
      "Fold 3\n",
      "Fold 4\n",
      "Fold 5\n",
      "Training with 150-nodes 1st hidden layer and 50-nodes 2nd hidden layer,\n",
      " 0.001 learning rate and 0.1 l2 regularization parameter\n",
      "Fold 0\n",
      "Fold 1\n",
      "Fold 2\n",
      "Fold 3\n",
      "Fold 4\n",
      "Fold 5\n",
      "Training with 150-nodes 1st hidden layer and 50-nodes 2nd hidden layer,\n",
      " 0.0001 learning rate and 0.1 l2 regularization parameter\n",
      "Fold 0\n",
      "Fold 1\n",
      "Fold 2\n",
      "Fold 3\n",
      "Fold 4\n",
      "Fold 5\n"
     ]
    }
   ],
   "source": [
    "# Two hidden layers regularized with different stepsize\n",
    "df_gridsearch_stepsize, train_loss, train_acc, val_loss, val_acc = \\\n",
    "  ffnn_gridsearch_cv(grid_2_layers_reg_step, x_complete_nostop, 6, n_epochs = 200)"
   ]
  },
  {
   "cell_type": "code",
   "execution_count": null,
   "metadata": {
    "colab": {
     "base_uri": "https://localhost:8080/",
     "height": 161
    },
    "colab_type": "code",
    "id": "sgJv57Y3fawm",
    "outputId": "2cb99a2a-5a28-4fa1-cfba-4eecef9fd719"
   },
   "outputs": [
    {
     "data": {
      "text/html": [
       "<div>\n",
       "<style scoped>\n",
       "    .dataframe tbody tr th:only-of-type {\n",
       "        vertical-align: middle;\n",
       "    }\n",
       "\n",
       "    .dataframe tbody tr th {\n",
       "        vertical-align: top;\n",
       "    }\n",
       "\n",
       "    .dataframe thead th {\n",
       "        text-align: right;\n",
       "    }\n",
       "</style>\n",
       "<table border=\"1\" class=\"dataframe\">\n",
       "  <thead>\n",
       "    <tr style=\"text-align: right;\">\n",
       "      <th></th>\n",
       "      <th>Avg. train accuracy</th>\n",
       "      <th>Avg. test accuracy</th>\n",
       "      <th>Avg. train loss</th>\n",
       "      <th>Avg. test loss</th>\n",
       "      <th>Diff. loss</th>\n",
       "      <th># nodes 1</th>\n",
       "      <th># nodes 2</th>\n",
       "      <th>Stepsize</th>\n",
       "      <th>l2</th>\n",
       "    </tr>\n",
       "  </thead>\n",
       "  <tbody>\n",
       "    <tr>\n",
       "      <th>2</th>\n",
       "      <td>0.809726</td>\n",
       "      <td>0.809973</td>\n",
       "      <td>0.180139</td>\n",
       "      <td>0.922163</td>\n",
       "      <td>0.742024</td>\n",
       "      <td>50</td>\n",
       "      <td>None</td>\n",
       "      <td>0.0001</td>\n",
       "      <td>None</td>\n",
       "    </tr>\n",
       "    <tr>\n",
       "      <th>1</th>\n",
       "      <td>0.864122</td>\n",
       "      <td>0.864279</td>\n",
       "      <td>0.111703</td>\n",
       "      <td>0.862838</td>\n",
       "      <td>0.751135</td>\n",
       "      <td>100</td>\n",
       "      <td>None</td>\n",
       "      <td>0.0001</td>\n",
       "      <td>None</td>\n",
       "    </tr>\n",
       "    <tr>\n",
       "      <th>0</th>\n",
       "      <td>0.884851</td>\n",
       "      <td>0.884946</td>\n",
       "      <td>0.079029</td>\n",
       "      <td>0.984952</td>\n",
       "      <td>0.905923</td>\n",
       "      <td>150</td>\n",
       "      <td>None</td>\n",
       "      <td>0.0001</td>\n",
       "      <td>None</td>\n",
       "    </tr>\n",
       "  </tbody>\n",
       "</table>\n",
       "</div>"
      ],
      "text/plain": [
       "   Avg. train accuracy  Avg. test accuracy  ...  Stepsize    l2\n",
       "2             0.809726            0.809973  ...    0.0001  None\n",
       "1             0.864122            0.864279  ...    0.0001  None\n",
       "0             0.884851            0.884946  ...    0.0001  None\n",
       "\n",
       "[3 rows x 9 columns]"
      ]
     },
     "execution_count": 100,
     "metadata": {
      "tags": []
     },
     "output_type": "execute_result"
    }
   ],
   "source": [
    "df_gridsearch.sort_values([\"Diff. loss\", \"Avg. test accuracy\"],\n",
    "                           ascending = [True, False])"
   ]
  },
  {
   "cell_type": "code",
   "execution_count": null,
   "metadata": {
    "colab": {
     "base_uri": "https://localhost:8080/",
     "height": 294
    },
    "colab_type": "code",
    "id": "67-ZVwLgfciQ",
    "outputId": "089c9798-2964-4e11-ae01-7b2dff4d7a62"
   },
   "outputs": [
    {
     "data": {
      "image/png": "[encoded data removed]",
      "text/plain": [
       "<Figure size 432x288 with 1 Axes>"
      ]
     },
     "metadata": {
      "needs_background": "light",
      "tags": []
     },
     "output_type": "display_data"
    }
   ],
   "source": [
    "labels = [(150), (100), (50)]\n",
    "\n",
    "for i in range(len(df_gridsearch_one_layer.index)):\n",
    "    plot_cv_history(train_acc[i], val_acc[i], train_loss[i], val_loss[i],\n",
    "                  i, param_label = labels[i], loss = 1)\n",
    "    \n",
    "#plt.ylim(0, 2)\n",
    "_ = plt.suptitle(\"One Layer\")\n",
    "#_ = plt.savefig(\"./ffnn_1lay_loss.png\")"
   ]
  },
  {
   "cell_type": "code",
   "execution_count": null,
   "metadata": {
    "colab": {
     "base_uri": "https://localhost:8080/",
     "height": 294
    },
    "colab_type": "code",
    "id": "OVbk2l1JL79R",
    "outputId": "e74b5917-060d-40a8-931c-cb773ddc167a"
   },
   "outputs": [
    {
     "data": {
      "image/png": "[encoded data removed]",
      "text/plain": [
       "<Figure size 432x288 with 1 Axes>"
      ]
     },
     "metadata": {
      "needs_background": "light",
      "tags": []
     },
     "output_type": "display_data"
    }
   ],
   "source": [
    "labels = [(150), (100), (50)]\n",
    "\n",
    "for i in range(len(df_gridsearch.index)):\n",
    "    plot_cv_history(train_acc[i], val_acc[i], train_loss[i], val_loss[i],\n",
    "                  i, param_label = labels[i], loss = 1)\n",
    "    \n",
    "#plt.ylim(0, 5)\n",
    "_ = plt.suptitle(\"One Layer & 0.1 L2 param\")\n",
    "#_=plt.savefig(\"./ffnn_1lay_reg_loss.png\", dpi = 200)"
   ]
  },
  {
   "cell_type": "code",
   "execution_count": null,
   "metadata": {
    "colab": {
     "base_uri": "https://localhost:8080/",
     "height": 294
    },
    "colab_type": "code",
    "id": "nunx4ZD9BBYW",
    "outputId": "71257d19-894c-4e0a-b085-6606870ea844"
   },
   "outputs": [
    {
     "data": {
      "image/png": "[encoded data removed]",
      "text/plain": [
       "<Figure size 432x288 with 1 Axes>"
      ]
     },
     "metadata": {
      "needs_background": "light",
      "tags": []
     },
     "output_type": "display_data"
    }
   ],
   "source": [
    "#TWO LAYERS non regularized: LOSS\n",
    "labels = [(150, 150), (150, 100), (150, 50)]\n",
    "\n",
    "for i in range(len(df_gridsearch_two_layers.index)):\n",
    "    plot_cv_history(train_acc[i], val_acc[i], train_loss[i], val_loss[i],\n",
    "                  i, param_label = labels[i], loss = 1)\n",
    "    \n",
    "#plt.ylim(0, 2)\n",
    "_ = plt.suptitle(\"Two Layers\")\n",
    "#_ = plt.savefig(\"./ffnn_2lay_acc.png\", dpi = 200)"
   ]
  },
  {
   "cell_type": "code",
   "execution_count": null,
   "metadata": {
    "colab": {
     "base_uri": "https://localhost:8080/",
     "height": 294
    },
    "colab_type": "code",
    "id": "5Hnx0EtnihFb",
    "outputId": "7f350d18-3f10-4656-fa70-27f8e76f5d63"
   },
   "outputs": [
    {
     "data": {
      "image/png": "[encoded data removed]",
      "text/plain": [
       "<Figure size 432x288 with 1 Axes>"
      ]
     },
     "metadata": {
      "needs_background": "light",
      "tags": []
     },
     "output_type": "display_data"
    }
   ],
   "source": [
    "#TWO LAYERS non regularized: ACCURACY\n",
    "labels = [(150, 150), (150, 100), (150, 50)]\n",
    "\n",
    "for i in range(len(df_gridsearch_two_layers.index)):\n",
    "    plot_cv_history(train_acc[i], val_acc[i], train_loss[i], val_loss[i],\n",
    "                  i, param_label = labels[i], loss = 0)\n",
    "    \n",
    "#plt.ylim(0, 2)\n",
    "_ = plt.suptitle(\"Two Layers\")\n",
    "#_ = plt.savefig(\"./ffnn_2lay_acc.png\", dpi = 200)"
   ]
  },
  {
   "cell_type": "code",
   "execution_count": null,
   "metadata": {
    "colab": {
     "base_uri": "https://localhost:8080/",
     "height": 294
    },
    "colab_type": "code",
    "id": "xtfeoRuaMHbQ",
    "outputId": "3801432c-05ff-4620-98f2-c72c8c8b1e62"
   },
   "outputs": [
    {
     "data": {
      "image/png": "[encoded data removed]",
      "text/plain": [
       "<Figure size 432x288 with 1 Axes>"
      ]
     },
     "metadata": {
      "needs_background": "light",
      "tags": []
     },
     "output_type": "display_data"
    }
   ],
   "source": [
    "#TWO LAYERS REGULARIZED: LOSS\n",
    "labels = [(150, 150), (150, 100), (150, 50)]\n",
    "\n",
    "for i in range(len(df_gridsearch_two_layers_regularized.index)):\n",
    "    plot_cv_history(train_acc[i], val_acc[i], train_loss[i], val_loss[i],\n",
    "                  i, param_label = labels[i], loss = 1)\n",
    "    \n",
    "#plt.ylim(0, 5)\n",
    "_ = plt.suptitle(\"Two Layers & 0.1 L2 param\")\n",
    "#_ = plt.savefig(\"./ffnn_2lay_reg_acc.png\", dpi = 200)\n"
   ]
  },
  {
   "cell_type": "code",
   "execution_count": null,
   "metadata": {
    "colab": {
     "base_uri": "https://localhost:8080/",
     "height": 294
    },
    "colab_type": "code",
    "id": "URMnazWjhjhn",
    "outputId": "586cc99c-bd4c-4471-a335-19cd6f843f64"
   },
   "outputs": [
    {
     "data": {
      "image/png": "[encoded data removed]",
      "text/plain": [
       "<Figure size 432x288 with 1 Axes>"
      ]
     },
     "metadata": {
      "needs_background": "light",
      "tags": []
     },
     "output_type": "display_data"
    }
   ],
   "source": [
    "#TWO LAYERS REGULARIZED: ACCURACY\n",
    "labels = [(150, 150), (150, 100), (150, 50)]\n",
    "\n",
    "for i in range(len(df_gridsearch_two_layers_regularized.index)):\n",
    "    plot_cv_history(train_acc[i], val_acc[i], train_loss[i], val_loss[i],\n",
    "                  i, param_label = labels[i], loss = 0)\n",
    "    \n",
    "#plt.ylim(0, 5)\n",
    "_ = plt.suptitle(\"Two Layers & 0.1 L2 param\")\n",
    "#_ = plt.savefig(\"./ffnn_2lay_reg_acc.png\", dpi = 200)"
   ]
  },
  {
   "cell_type": "code",
   "execution_count": null,
   "metadata": {
    "colab": {
     "base_uri": "https://localhost:8080/",
     "height": 294
    },
    "colab_type": "code",
    "id": "SrzSj08Ts5Iz",
    "outputId": "fa550560-530b-4030-e16f-a05adeed04d3"
   },
   "outputs": [
    {
     "data": {
      "image/png": "[encoded data removed]",
      "text/plain": [
       "<Figure size 432x288 with 1 Axes>"
      ]
     },
     "metadata": {
      "needs_background": "light",
      "tags": []
     },
     "output_type": "display_data"
    }
   ],
   "source": [
    "#STEP-SIZE\n",
    "labels = [1e-1,1e-2,1e-4]\n",
    "\n",
    "for i in range(len(df_gridsearch_stepsize.index)):\n",
    "    plot_cv_history(train_acc[i], val_acc[i], train_loss[i], val_loss[i],\n",
    "                  i, param_label = labels[i], loss = 1)\n",
    "    \n",
    "_ = plt.suptitle(\"Two Layers & 0.1 L2 param with different stepsize\")\n",
    "#_ = plt.savefig(\"./ffnn_2lay_reg_acc.png\", dpi = 200)"
   ]
  },
  {
   "cell_type": "markdown",
   "metadata": {
    "colab_type": "text",
    "id": "PF7akMa4Ac-b"
   },
   "source": [
    "## create test prediction"
   ]
  },
  {
   "cell_type": "code",
   "execution_count": null,
   "metadata": {
    "colab": {},
    "colab_type": "code",
    "id": "kP6C8Hq1AcXR"
   },
   "outputs": [],
   "source": [
    "##################################################\n",
    "# Save your test prediction in y_test_pred\n",
    "##################################################\n",
    "transformer = StdTransformer()\n",
    "\n",
    "# transform train and validation data to standardized form\n",
    "transformer.fit(x_complete_nostop)\n",
    "x_complete_transf = transformer.transform(x_complete_nostop)\n",
    "x_test_transf = transformer.transform(x_test_nostop)\n",
    "\n",
    "# transform y_validation in one-hot version\n",
    "y_complete_1h = tf.keras.utils.to_categorical(y_complete, 5)\n",
    "\n",
    "ff_nn = create_ff_model2(150,50,0.1)\n",
    "\n",
    "ff_nn.fit(x_complete_transf, y_complete_1h,\n",
    "          batch_size = 6, epochs = 200, verbose = False)\n",
    "\n",
    "y_test_pred = ff_nn.predict(x_test_transf)\n",
    "\n",
    "y_test_pred = np.argmax(y_test_pred, axis = 1)\n",
    "\n",
    "# Create submission\n",
    "submission = pd.read_csv(PATH_SUBMISSION)\n",
    "\n",
    "if y_test_pred is not None:\n",
    "    submission['class'] = y_test_pred\n",
    "submission.to_csv('my_submission_ffnn.csv', index=False)"
   ]
  },
  {
   "cell_type": "code",
   "execution_count": null,
   "metadata": {
    "colab": {},
    "colab_type": "code",
    "id": "75DEoGNR7IZZ"
   },
   "outputs": [],
   "source": []
  }
 ],
 "metadata": {
  "colab": {
   "collapsed_sections": [],
   "name": "Project New.ipynb",
   "provenance": [],
   "toc_visible": true
  },
  "kernelspec": {
   "display_name": "Python 3",
   "language": "python",
   "name": "python3"
  },
  "language_info": {
   "codemirror_mode": {
    "name": "ipython",
    "version": 3
   },
   "file_extension": ".py",
   "mimetype": "text/x-python",
   "name": "python",
   "nbconvert_exporter": "python",
   "pygments_lexer": "ipython3",
   "version": "3.7.6"
  }
 },
 "nbformat": 4,
 "nbformat_minor": 1
}
